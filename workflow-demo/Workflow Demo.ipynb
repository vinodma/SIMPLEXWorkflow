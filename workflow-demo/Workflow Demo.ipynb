{
 "cells": [
  {
   "cell_type": "markdown",
   "metadata": {},
   "source": [
    "## Container setup"
   ]
  },
  {
   "cell_type": "code",
   "execution_count": 1,
   "metadata": {
    "collapsed": false
   },
   "outputs": [],
   "source": [
    "url = \"http://192.168.99.100\"\n",
    "data_port = \"5010\"\n",
    "snap_port = \"5020\"\n",
    "shiny_data = \"5030\"\n",
    "shiny_server = \"32769\""
   ]
  },
  {
   "cell_type": "markdown",
   "metadata": {},
   "source": [
    "## Get the Baylor network"
   ]
  },
  {
   "cell_type": "code",
   "execution_count": 19,
   "metadata": {
    "collapsed": false
   },
   "outputs": [],
   "source": [
    "import json\n",
    "import requests\n",
    "r1 = requests.get(\"{}:{}/\".format(url, data_port))"
   ]
  },
  {
   "cell_type": "code",
   "execution_count": 20,
   "metadata": {
    "collapsed": false
   },
   "outputs": [
    {
     "name": "stdout",
     "output_type": "stream",
     "text": [
      "\"entity1\" \"type1\" \"entity2\" \"type2\" \"relation_type\" \"source\" \"entity1hash\" \"entity2hash\"\n",
      "\"D016651\" \"Chemical\" \"MESH:C531609\" \"Disease\" \"-\" \"ctd\" 1 17027\n",
      "\"D008558\" \"Chemical\" \"MESH:C531616\" \"Disease\" \"-\" \"ctd\" 2 17028\n",
      "\"C040029\" \"Chemical\" \"MESH:C53161\n"
     ]
    }
   ],
   "source": [
    "data = json.loads(r1.text)\n",
    "ctd = data[\"ctd\"]\n",
    "labels = data[\"labels\"]\n",
    "print ctd[0:250]"
   ]
  },
  {
   "cell_type": "markdown",
   "metadata": {
    "collapsed": true
   },
   "source": [
    "## Run community detection with SNAP"
   ]
  },
  {
   "cell_type": "code",
   "execution_count": 21,
   "metadata": {
    "collapsed": true
   },
   "outputs": [],
   "source": [
    "r2 = requests.post('{}:{}/'.format(url, snap_port), data = {'ctd':ctd})"
   ]
  },
  {
   "cell_type": "code",
   "execution_count": 22,
   "metadata": {
    "collapsed": false
   },
   "outputs": [
    {
     "name": "stdout",
     "output_type": "stream",
     "text": [
      "{\"5\": {\"nodes\": [{\"_rowee\": \"D016651\", \"name\": \"D016651\", \"color\": \"#FF8800\", \"label\": \"D016651\", \"y\": 2.64435334749634, \"x\": 0.016059223537658273, \"type\": \"Chemical\", \"id\": \"0\", \"size\": 1}, {\"_rowee\": \"MESH:C531609\", \"name\": \"MESH:C531609\", \"color\": \"#CC0000\", \"label\": \"MESH:C531609\", \"y\": 3.772966185361546, \"x\": 0.16498305064354427, \"type\": \"Disease\", \"id\": \"1\", \"size\": 1}, {\"_rowee\": \"MESH:D000849\", \"name\": \"MESH:D000849\", \"color\": \"#CC0000\", \"label\": \"MESH:D000849\", \"y\": 1.7476489800840331, \n"
     ]
    }
   ],
   "source": [
    "data = json.loads(r2.text)\n",
    "graph = data[\"graph\"]\n",
    "print graph[:500]\n",
    "with open(\"current_graph.json\" ,\"w\") as f:\n",
    "    f.write(data[\"graph\"])"
   ]
  },
  {
   "cell_type": "markdown",
   "metadata": {},
   "source": [
    "## Load data into visualization tool"
   ]
  },
  {
   "cell_type": "code",
   "execution_count": 24,
   "metadata": {
    "collapsed": false
   },
   "outputs": [
    {
     "name": "stdout",
     "output_type": "stream",
     "text": [
      "Data loaded\n"
     ]
    }
   ],
   "source": [
    "r = requests.post('{}:{}/'.format(url, shiny_data), data = {'graph':graph})\n",
    "print r.text"
   ]
  },
  {
   "cell_type": "markdown",
   "metadata": {},
   "source": [
    "## Open the visualization\n",
    "\n",
    "http://192.168.99.100:32769/sample-apps/BaylorInteractiveViewer/"
   ]
  },
  {
   "cell_type": "code",
   "execution_count": 11,
   "metadata": {
    "collapsed": true
   },
   "outputs": [],
   "source": [
    "graph_bak = graph"
   ]
  },
  {
   "cell_type": "code",
   "execution_count": null,
   "metadata": {
    "collapsed": true
   },
   "outputs": [],
   "source": []
  }
 ],
 "metadata": {
  "kernelspec": {
   "display_name": "Python 2",
   "language": "python",
   "name": "python2"
  },
  "language_info": {
   "codemirror_mode": {
    "name": "ipython",
    "version": 2
   },
   "file_extension": ".py",
   "mimetype": "text/x-python",
   "name": "python",
   "nbconvert_exporter": "python",
   "pygments_lexer": "ipython2",
   "version": "2.7.10"
  }
 },
 "nbformat": 4,
 "nbformat_minor": 0
}
